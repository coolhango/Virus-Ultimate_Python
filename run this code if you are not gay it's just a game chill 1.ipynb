{
 "cells": [
  {
   "cell_type": "code",
   "execution_count": 4,
   "id": "6a8086f2-7f93-44f6-a3a9-388824a479d7",
   "metadata": {},
   "outputs": [
    {
     "name": "stderr",
     "output_type": "stream",
     "text": [
      "\n",
      "KeyboardInterrupt\n",
      "\n",
      "KeyboardInterrupt\n",
      "\n"
     ]
    }
   ],
   "source": [
    "# Last Updated: 26 March 2024, 7.51PM.\n",
    "# Copyright © 2024 Gedeon Koh All rights reserved.\n",
    "# No part of this publication may be reproduced, distributed, or transmitted in any form or by any means, including photocopying, recording, or other electronic or mechanical methods, without the prior written permission of the publisher, except in the case of brief quotations embodied in reviews and certain other non-commercial uses permitted by copyright law.\n",
    "# THE SOFTWARE IS PROVIDED “AS IS”, WITHOUT WARRANTY OF ANY KIND, EXPRESS OR IMPLIED, INCLUDING BUT NOT LIMITED TO THE WARRANTIES OF MERCHANTABILITY, FITNESS FOR A PARTICULAR PURPOSE AND NONINFRINGEMENT. IN NO EVENT SHALL THE AUTHOR OR COPYRIGHT HOLDER BE LIABLE FOR ANY CLAIM, DAMAGES OR OTHER LIABILITY, WHETHER IN AN ACTION OF CONTRACT, TORT OR OTHERWISE, ARISING FROM, OUT OF OR IN CONNECTION WITH THE SOFTWARE OR THE USE OR OTHER DEALINGS IN THE SOFTWARE.\n",
    "# Use of this program for pranks or any malicious activities is strictly prohibited. Any unauthorized use or dissemination of the results produced by this program is unethical and may result in legal consequences.\n",
    "# This code have been tested throughly. Please inform the operator or author if there is any mistake or error in the code.\n",
    "# Any damage, disciplinary actions or death from this material is not the publisher's or owner's fault.\n",
    "# Run and use this program this AT YOUR OWN RISK.\n",
    "# Added feature where program can be provided multiple links to open randomly\n",
    "# Removed unnecessary feature\n",
    "# Version 0.1\n",
    "\n",
    "# This code spams links every 0.000000000000000000000000000000000000000000000000000000000000000000000000000000000000000000000000000001 seconds\n",
    "# To slow down or increase the timing each link opens, change the timing in seconds in the time.sleep function\n",
    "# To change the website, change the website links in red.\n",
    "\n",
    "def open_link():\n",
    "    timeout = time.time() + 3 * 5  # 3 minutes and 5 seconds\n",
    "    while time.time() < timeout:\n",
    "        # Change links below accordingly\n",
    "        websites = [\"https://www.youtube.com/watch?v=dQw4w9WgXcQ\",\n",
    "            \"https://www.spotify.com/\",\n",
    "            \"https://www.dropbox.com/\",\n",
    "            \"https://www.uber.com/\",\n",
    "            \"https://www.google.com/\"]\n",
    "        \n",
    "        random_website = random.choice(websites)\n",
    "        webbrowser.open(random_website, new=1)\n",
    "        time.sleep(0.000000000000000000000000000000000000000000000000000000000000000000000000000000000000000000000000000001)\n",
    "\n",
    "\n",
    "open_link()"
   ]
  }
 ],
 "metadata": {
  "kernelspec": {
   "display_name": "Python 3 (ipykernel)",
   "language": "python",
   "name": "python3"
  },
  "language_info": {
   "codemirror_mode": {
    "name": "ipython",
    "version": 3
   },
   "file_extension": ".py",
   "mimetype": "text/x-python",
   "name": "python",
   "nbconvert_exporter": "python",
   "pygments_lexer": "ipython3",
   "version": "3.12.2"
  }
 },
 "nbformat": 4,
 "nbformat_minor": 5
}
