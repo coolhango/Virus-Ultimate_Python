{
 "cells": [
  {
   "cell_type": "code",
   "execution_count": 2,
   "id": "ac29fc13-fd39-47be-9509-e277e130a53a",
   "metadata": {},
   "outputs": [
    {
     "ename": "KeyboardInterrupt",
     "evalue": "",
     "output_type": "error",
     "traceback": [
      "\u001b[0;31m---------------------------------------------------------------------------\u001b[0m",
      "\u001b[0;31mKeyboardInterrupt\u001b[0m                         Traceback (most recent call last)",
      "Cell \u001b[0;32mIn[2], line 27\u001b[0m\n\u001b[1;32m     25\u001b[0m pyautogui\u001b[38;5;241m.\u001b[39mpress(\u001b[38;5;124m\"\u001b[39m\u001b[38;5;124me\u001b[39m\u001b[38;5;124m\"\u001b[39m)\n\u001b[1;32m     26\u001b[0m pyautogui\u001b[38;5;241m.\u001b[39mpress(\u001b[38;5;124m\"\u001b[39m\u001b[38;5;124menter\u001b[39m\u001b[38;5;124m\"\u001b[39m)\n\u001b[0;32m---> 27\u001b[0m \u001b[43mpyautogui\u001b[49m\u001b[38;5;241;43m.\u001b[39;49m\u001b[43mpress\u001b[49m\u001b[43m(\u001b[49m\u001b[38;5;124;43m\"\u001b[39;49m\u001b[38;5;124;43ma\u001b[39;49m\u001b[38;5;124;43m\"\u001b[39;49m\u001b[43m)\u001b[49m\n\u001b[1;32m     28\u001b[0m pyautogui\u001b[38;5;241m.\u001b[39mpress(\u001b[38;5;124m\"\u001b[39m\u001b[38;5;124mn\u001b[39m\u001b[38;5;124m\"\u001b[39m)\n\u001b[1;32m     29\u001b[0m pyautogui\u001b[38;5;241m.\u001b[39mpress(\u001b[38;5;124m\"\u001b[39m\u001b[38;5;124menter\u001b[39m\u001b[38;5;124m\"\u001b[39m)\n",
      "File \u001b[0;32m~/Library/jupyterlab-desktop/jlab_server/lib/python3.12/site-packages/pyautogui/__init__.py:595\u001b[0m, in \u001b[0;36m_genericPyAutoGUIChecks.<locals>.wrapper\u001b[0;34m(*args, **kwargs)\u001b[0m\n\u001b[1;32m    593\u001b[0m failSafeCheck()\n\u001b[1;32m    594\u001b[0m returnVal \u001b[38;5;241m=\u001b[39m wrappedFunction(\u001b[38;5;241m*\u001b[39margs, \u001b[38;5;241m*\u001b[39m\u001b[38;5;241m*\u001b[39mkwargs)\n\u001b[0;32m--> 595\u001b[0m \u001b[43m_handlePause\u001b[49m\u001b[43m(\u001b[49m\u001b[43mkwargs\u001b[49m\u001b[38;5;241;43m.\u001b[39;49m\u001b[43mget\u001b[49m\u001b[43m(\u001b[49m\u001b[38;5;124;43m\"\u001b[39;49m\u001b[38;5;124;43m_pause\u001b[39;49m\u001b[38;5;124;43m\"\u001b[39;49m\u001b[43m,\u001b[49m\u001b[43m \u001b[49m\u001b[38;5;28;43;01mTrue\u001b[39;49;00m\u001b[43m)\u001b[49m\u001b[43m)\u001b[49m\n\u001b[1;32m    596\u001b[0m \u001b[38;5;28;01mreturn\u001b[39;00m returnVal\n",
      "File \u001b[0;32m~/Library/jupyterlab-desktop/jlab_server/lib/python3.12/site-packages/pyautogui/__init__.py:639\u001b[0m, in \u001b[0;36m_handlePause\u001b[0;34m(_pause)\u001b[0m\n\u001b[1;32m    637\u001b[0m \u001b[38;5;28;01mif\u001b[39;00m _pause:\n\u001b[1;32m    638\u001b[0m     \u001b[38;5;28;01massert\u001b[39;00m \u001b[38;5;28misinstance\u001b[39m(PAUSE, \u001b[38;5;28mint\u001b[39m) \u001b[38;5;129;01mor\u001b[39;00m \u001b[38;5;28misinstance\u001b[39m(PAUSE, \u001b[38;5;28mfloat\u001b[39m)\n\u001b[0;32m--> 639\u001b[0m     \u001b[43mtime\u001b[49m\u001b[38;5;241;43m.\u001b[39;49m\u001b[43msleep\u001b[49m\u001b[43m(\u001b[49m\u001b[43mPAUSE\u001b[49m\u001b[43m)\u001b[49m\n",
      "\u001b[0;31mKeyboardInterrupt\u001b[0m: "
     ]
    }
   ],
   "source": [
    "# Last Updated: 27 March 2024, 8.22PM.\n",
    "# Copyright © 2024 Gedeon Koh All rights reserved.\n",
    "# No part of this publication may be reproduced, distributed, or transmitted in any form or by any means, including photocopying, recording, or other electronic or mechanical methods, without the prior written permission of the publisher, except in the case of brief quotations embodied in reviews and certain other non-commercial uses permitted by copyright law.\n",
    "# THE SOFTWARE IS PROVIDED “AS IS”, WITHOUT WARRANTY OF ANY KIND, EXPRESS OR IMPLIED, INCLUDING BUT NOT LIMITED TO THE WARRANTIES OF MERCHANTABILITY, FITNESS FOR A PARTICULAR PURPOSE AND NONINFRINGEMENT. IN NO EVENT SHALL THE AUTHOR OR COPYRIGHT HOLDER BE LIABLE FOR ANY CLAIM, DAMAGES OR OTHER LIABILITY, WHETHER IN AN ACTION OF CONTRACT, TORT OR OTHERWISE, ARISING FROM, OUT OF OR IN CONNECTION WITH THE SOFTWARE OR THE USE OR OTHER DEALINGS IN THE SOFTWARE.\n",
    "# Use of this program for pranks or any malicious activities is strictly prohibited. Any unauthorized use or dissemination of the results produced by this program is unethical and may result in legal consequences.\n",
    "# This code have been tested throughly.adopted\n",
    "# Please inform the operator or author if there is any mistake or error in the code.\n",
    "# Any damage, disciplinary actions or death from this material is not the publisher's or owner's fault.\n",
    "# Run and use this program this AT YOUR OWN RISK.\n",
    "# Version 0.1 LATEST\n",
    "\n",
    "# This is a Python Spam Bot for Whatsapp.\n",
    "# Once run, it will start spamming\n",
    "# Run this code first before heading to Whatsapp and the person you want to spam.\n",
    "# Wait 5 seconds and the spam will start.\n",
    "\n",
    "#!pip install pyautogui\n",
    "#!pip install webbrowser\n",
    "#!pip install time\n",
    "\n",
    "import pyautogui\n",
    "import webbrowser as wb\n",
    "import time\n",
    "\n",
    "time.sleep(5)\n",
    "\n",
    "for i in range(100000000000000000000000000000000000000000000000000000000):\n",
    "    pyautogui.press(\"y\")\n",
    "    pyautogui.press(\"o\")\n",
    "    pyautogui.press(\"u\")\n",
    "    pyautogui.press(\"enter\")\n",
    "    pyautogui.press(\"a\")\n",
    "    pyautogui.press(\"r\")\n",
    "    pyautogui.press(\"e\")\n",
    "    pyautogui.press(\"enter\")\n",
    "    pyautogui.press(\"a\")\n",
    "    pyautogui.press(\"n\")\n",
    "    pyautogui.press(\"enter\")\n",
    "    pyautogui.press(\"i\")\n",
    "    pyautogui.press(\"d\")\n",
    "    pyautogui.press(\"i\")\n",
    "    pyautogui.press(\"o\")\n",
    "    pyautogui.press(\"t\")\n",
    "    pyautogui.press(\"enter\")\n",
    "    #pyautogui.press(\"a\")\n",
    "    #pyautogui.press(\"a\")\n",
    "    #pyautogui.press(\"a\")\n",
    "    #pyautogui.press(\"a\")\n",
    "    #pyautogui.press(\"a\")\n",
    "    #pyautogui.press(\"a\")\n",
    "    #pyautogui.press(\"a\")\n",
    "    #pyautogui.press(\"a\")\n",
    "    #pyautogui.press(\"a\")\n",
    "    #pyautogui.press(\"a\")\n",
    "    #pyautogui.press(\"a\")\n",
    "    #pyautogui.press(\"a\")\n",
    "    #pyautogui.press(\"a\")\n",
    "    #pyautogui.press(\"a\")\n",
    "    #pyautogui.press(\"a\")\n",
    "    #pyautogui.press(\"a\")\n",
    "    #pyautogui.press(\"a\")\n",
    "    #pyautogui.press(\"a\")\n",
    "    #pyautogui.press(\"a\")\n",
    "    #pyautogui.press(\"a\")\n",
    "    #pyautogui.press(\"a\")\n",
    "    #pyautogui.press(\"a\")\n",
    "    #pyautogui.press(\"a\")"
   ]
  },
  {
   "cell_type": "raw",
   "id": "566e51d1-d687-4239-b711-8d7f4c1108ff",
   "metadata": {},
   "source": []
  }
 ],
 "metadata": {
  "kernelspec": {
   "display_name": "Python 3 (ipykernel)",
   "language": "python",
   "name": "python3"
  },
  "language_info": {
   "codemirror_mode": {
    "name": "ipython",
    "version": 3
   },
   "file_extension": ".py",
   "mimetype": "text/x-python",
   "name": "python",
   "nbconvert_exporter": "python",
   "pygments_lexer": "ipython3",
   "version": "3.12.2"
  }
 },
 "nbformat": 4,
 "nbformat_minor": 5
}
