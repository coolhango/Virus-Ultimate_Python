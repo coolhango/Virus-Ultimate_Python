{
 "cells": [
  {
   "cell_type": "code",
   "execution_count": 1,
   "id": "ebeeace9-bf04-4191-acfb-0761825f730f",
   "metadata": {},
   "outputs": [],
   "source": [
    "# Last Updated: 26 March 2024, 7.41PM.\n",
    "# Copyright © 2024 Gedeon Koh All rights reserved.\n",
    "# No part of this publication may be reproduced, distributed, or transmitted in any form or by any means, including photocopying, recording, or other electronic or mechanical methods, without the prior written permission of the publisher, except in the case of brief quotations embodied in reviews and certain other non-commercial uses permitted by copyright law.\n",
    "# THE SOFTWARE IS PROVIDED “AS IS”, WITHOUT WARRANTY OF ANY KIND, EXPRESS OR IMPLIED, INCLUDING BUT NOT LIMITED TO THE WARRANTIES OF MERCHANTABILITY, FITNESS FOR A PARTICULAR PURPOSE AND NONINFRINGEMENT. IN NO EVENT SHALL THE AUTHOR OR COPYRIGHT HOLDER BE LIABLE FOR ANY CLAIM, DAMAGES OR OTHER LIABILITY, WHETHER IN AN ACTION OF CONTRACT, TORT OR OTHERWISE, ARISING FROM, OUT OF OR IN CONNECTION WITH THE SOFTWARE OR THE USE OR OTHER DEALINGS IN THE SOFTWARE.\n",
    "# Use of this program for pranks or any malicious activities is strictly prohibited. Any unauthorized use or dissemination of the results produced by this program is unethical and may result in legal consequences.\n",
    "# This code have been tested throughly. Please inform the operator or author if there is any mistake or error in the code.\n",
    "# Any damage, disciplinary actions or death from this material is not the publisher's or owner's fault.\n",
    "# Run and use this program this AT YOUR OWN RISK.\n",
    "# This is a counter code for Program 3. \n",
    "# Version 0.1\n",
    "\n",
    "import os\n",
    "import shutil\n",
    "\n",
    "def delete_generated_files():\n",
    "    desktop = os.path.join(os.path.expanduser(\"~\"), \"Desktop\")\n",
    "    for item in os.listdir(desktop):\n",
    "        if item.startswith(\"Virus\") and os.path.isdir(os.path.join(desktop, item)):\n",
    "            folder_path = os.path.join(desktop, item)\n",
    "            try:\n",
    "                shutil.rmtree(folder_path)\n",
    "                print(f\"Deleted: {folder_path}\")\n",
    "            except Exception as e:\n",
    "                print(f\"Error deleting {folder_path}: {e}\")\n",
    "\n",
    "if __name__ == \"__main__\":\n",
    "    delete_generated_files()\n"
   ]
  }
 ],
 "metadata": {
  "kernelspec": {
   "display_name": "Python 3 (ipykernel)",
   "language": "python",
   "name": "python3"
  },
  "language_info": {
   "codemirror_mode": {
    "name": "ipython",
    "version": 3
   },
   "file_extension": ".py",
   "mimetype": "text/x-python",
   "name": "python",
   "nbconvert_exporter": "python",
   "pygments_lexer": "ipython3",
   "version": "3.12.2"
  }
 },
 "nbformat": 4,
 "nbformat_minor": 5
}
