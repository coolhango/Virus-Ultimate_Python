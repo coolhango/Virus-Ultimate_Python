{
 "cells": [
  {
   "cell_type": "code",
   "execution_count": null,
   "id": "dd264b71-b4d1-4fa3-92fc-80d8ab043b34",
   "metadata": {},
   "outputs": [],
   "source": [
    "# Last Updated: 26 March 2024, 7.21PM.\n",
    "# Copyright © 2024 Gedeon Koh All rights reserved.\n",
    "# No part of this publication may be reproduced, distributed, or transmitted in any form or by any means, including photocopying, recording, or other electronic or mechanical methods, without the prior written permission of the publisher, except in the case of brief quotations embodied in reviews and certain other non-commercial uses permitted by copyright law.\n",
    "# THE SOFTWARE IS PROVIDED “AS IS”, WITHOUT WARRANTY OF ANY KIND, EXPRESS OR IMPLIED, INCLUDING BUT NOT LIMITED TO THE WARRANTIES OF MERCHANTABILITY, FITNESS FOR A PARTICULAR PURPOSE AND NONINFRINGEMENT. IN NO EVENT SHALL THE AUTHOR OR COPYRIGHT HOLDER BE LIABLE FOR ANY CLAIM, DAMAGES OR OTHER LIABILITY, WHETHER IN AN ACTION OF CONTRACT, TORT OR OTHERWISE, ARISING FROM, OUT OF OR IN CONNECTION WITH THE SOFTWARE OR THE USE OR OTHER DEALINGS IN THE SOFTWARE.\n",
    "# Use of this program for pranks or any malicious activities is strictly prohibited. The code generates irreversible results, for which there are currently no known solution or counter code. Any unauthorized use or dissemination of the results produced by this program is unethical and may result in legal consequences.\n",
    "# Any damage, disciplinary actions or death from this material is not the publisher's or owner's fault.\n",
    "# This code have not been tested throughly, and is still currently in the BETA stage.\n",
    "# Run and use this program this AT YOUR OWN RISK.\n",
    "# Version 0.1 BETA\n",
    "\n",
    "# This code will intiate a double tap every 5 seconds\n",
    "# You can change how fast every double tap occurs under time.sleep\n",
    "\n",
    "#!pip install pyautogui\n",
    "#!pip install time\n",
    "\n",
    "import pyautogui as p\n",
    "import time\n",
    "time.sleep(5)\n",
    "while 1 == 1:\n",
    "    py.doubleClick()\n",
    "    "
   ]
  }
 ],
 "metadata": {
  "kernelspec": {
   "display_name": "Python 3 (ipykernel)",
   "language": "python",
   "name": "python3"
  },
  "language_info": {
   "codemirror_mode": {
    "name": "ipython",
    "version": 3
   },
   "file_extension": ".py",
   "mimetype": "text/x-python",
   "name": "python",
   "nbconvert_exporter": "python",
   "pygments_lexer": "ipython3",
   "version": "3.12.2"
  }
 },
 "nbformat": 4,
 "nbformat_minor": 5
}
