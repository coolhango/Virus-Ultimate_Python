{
 "cells": [
  {
   "cell_type": "code",
   "execution_count": 2,
   "id": "b0d7b4ec-e24c-4f9e-b20b-af19cf83361e",
   "metadata": {},
   "outputs": [
    {
     "name": "stdout",
     "output_type": "stream",
     "text": [
      "Welcome to the love Calculator\n"
     ]
    },
    {
     "name": "stdin",
     "output_type": "stream",
     "text": [
      "What is your name? \n",
      " Song Yu\n",
      "What is your lover's name \n",
      "  Mavis\n"
     ]
    },
    {
     "name": "stdout",
     "output_type": "stream",
     "text": [
      "Your score is 12, you are alright together\n"
     ]
    }
   ],
   "source": [
    "# Last Updated: 26 March 2024, 7.51PM.\n",
    "# Copyright © 2024 Gedeon Koh All rights reserved.\n",
    "# No part of this publication may be reproduced, distributed, or transmitted in any form or by any means, including photocopying, recording, or other electronic or mechanical methods, without the prior written permission of the publisher, except in the case of brief quotations embodied in reviews and certain other non-commercial uses permitted by copyright law.\n",
    "# THE SOFTWARE IS PROVIDED “AS IS”, WITHOUT WARRANTY OF ANY KIND, EXPRESS OR IMPLIED, INCLUDING BUT NOT LIMITED TO THE WARRANTIES OF MERCHANTABILITY, FITNESS FOR A PARTICULAR PURPOSE AND NONINFRINGEMENT. IN NO EVENT SHALL THE AUTHOR OR COPYRIGHT HOLDER BE LIABLE FOR ANY CLAIM, DAMAGES OR OTHER LIABILITY, WHETHER IN AN ACTION OF CONTRACT, TORT OR OTHERWISE, ARISING FROM, OUT OF OR IN CONNECTION WITH THE SOFTWARE OR THE USE OR OTHER DEALINGS IN THE SOFTWARE.\n",
    "# Use of this program for pranks or any malicious activities is strictly prohibited. Any unauthorized use or dissemination of the results produced by this program is unethical and may result in legal consequences.\n",
    "# This code have been tested throughly. Please inform the operator or author if there is any mistake or error in the code.\n",
    "# Any damage, disciplinary actions or death from this material is not the publisher's or owner's fault.\n",
    "# Run and use this program this AT YOUR OWN RISK.\n",
    "# Version 0.1\n",
    "\n",
    "print('Welcome to the Love Calculator')\n",
    "name_1 = input('What is your name? \\n')\n",
    "name_2 = input(\"What is your lover's name \\n \")\n",
    "name = name_1 + name_2\n",
    "\n",
    "t = name.lower().count('t')\n",
    "r = name.lower().count('r')\n",
    "u = name.lower().count('u')\n",
    "e = name.lower().count('e')\n",
    "\n",
    "l = name.lower().count('l')\n",
    "o = name.lower().count('o')\n",
    "v = name.lower().count('v')\n",
    "e = name.lower().count('e')\n",
    "\n",
    "first_Score = t + r + u + e\n",
    "second_Score = l + o + v + e\n",
    "\n",
    "score = str(first_Score) + str(second_Score)\n",
    "if score <= '10' or score >= '90':\n",
    "    print(f'Your score is {score}, you go together like coke and mentos')\n",
    "elif score >= '40' or score <= '50':\n",
    "    print(f'Your score is {score}, you are alright together')\n",
    "else:\n",
    "    print(f'Your score is {score}')"
   ]
  }
 ],
 "metadata": {
  "kernelspec": {
   "display_name": "Python 3 (ipykernel)",
   "language": "python",
   "name": "python3"
  },
  "language_info": {
   "codemirror_mode": {
    "name": "ipython",
    "version": 3
   },
   "file_extension": ".py",
   "mimetype": "text/x-python",
   "name": "python",
   "nbconvert_exporter": "python",
   "pygments_lexer": "ipython3",
   "version": "3.12.2"
  }
 },
 "nbformat": 4,
 "nbformat_minor": 5
}
