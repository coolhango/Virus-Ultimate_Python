{
 "cells": [
  {
   "cell_type": "code",
   "execution_count": 4,
   "id": "c37f784a-51e6-4bfb-a8a7-36736747974d",
   "metadata": {},
   "outputs": [],
   "source": [
    "# Last Updated: 26 March 2024, 7.51PM.\n",
    "# Copyright © 2024 Gedeon Koh All rights reserved.\n",
    "# No part of this publication may be reproduced, distributed, or transmitted in any form or by any means, including photocopying, recording, or other electronic or mechanical methods, without the prior written permission of the publisher, except in the case of brief quotations embodied in reviews and certain other non-commercial uses permitted by copyright law.\n",
    "# THE SOFTWARE IS PROVIDED “AS IS”, WITHOUT WARRANTY OF ANY KIND, EXPRESS OR IMPLIED, INCLUDING BUT NOT LIMITED TO THE WARRANTIES OF MERCHANTABILITY, FITNESS FOR A PARTICULAR PURPOSE AND NONINFRINGEMENT. IN NO EVENT SHALL THE AUTHOR OR COPYRIGHT HOLDER BE LIABLE FOR ANY CLAIM, DAMAGES OR OTHER LIABILITY, WHETHER IN AN ACTION OF CONTRACT, TORT OR OTHERWISE, ARISING FROM, OUT OF OR IN CONNECTION WITH THE SOFTWARE OR THE USE OR OTHER DEALINGS IN THE SOFTWARE.\n",
    "# Use of this program for pranks or any malicious activities is strictly prohibited. Any unauthorized use or dissemination of the results produced by this program is unethical and may result in legal consequences.\n",
    "# This code have been tested throughly. Please inform the operator or author if there is any mistake or error in the code.\n",
    "# Any damage, disciplinary actions or death from this material is not the publisher's or owner's fault.\n",
    "# Run and use this program this AT YOUR OWN RISK.\n",
    "# Version 0.1\n",
    "\n",
    "from tkinter import *\n",
    "from tkinter import messagebox\n",
    "import random\n",
    "def no():\n",
    "    messagebox.showinfo(' ', 'Gay Spotted')\n",
    "    quit()\n",
    "    \n",
    "def motionMouse(event):\n",
    "    btnYes.place(x=random.randint(0, 500), y=random.randint(0, 500))\n",
    "\n",
    "root = Tk()\n",
    "root.geometry('600x600')\n",
    "root.title('Gay Test')\n",
    "root.resizable(width=False, height=False)    \n",
    "root['bg'] = 'white'\n",
    "\n",
    "Label = Label(root, text='Are You Gay?', font='Arial 20 bold', bg='white').pack()\n",
    "btnYes = Button(root, text='No', font='Arial 20 bold')\n",
    "btnYes.place(x=170, y=100)\n",
    "btnYes.bind('<Enter>', motionMouse)\n",
    "btnNo = Button (root, text='Yes', font='Arial 20 bold', command=no).place(x=350, y=100)\n",
    "root.mainloop()"
   ]
  }
 ],
 "metadata": {
  "kernelspec": {
   "display_name": "Python 3 (ipykernel)",
   "language": "python",
   "name": "python3"
  },
  "language_info": {
   "codemirror_mode": {
    "name": "ipython",
    "version": 3
   },
   "file_extension": ".py",
   "mimetype": "text/x-python",
   "name": "python",
   "nbconvert_exporter": "python",
   "pygments_lexer": "ipython3",
   "version": "3.12.2"
  }
 },
 "nbformat": 4,
 "nbformat_minor": 5
}
