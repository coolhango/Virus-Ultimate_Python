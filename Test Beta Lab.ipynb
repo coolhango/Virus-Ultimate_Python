{
 "cells": [
  {
   "cell_type": "code",
   "execution_count": 1,
   "id": "8fe46265-862c-49c4-8034-8ae0c7f326fa",
   "metadata": {},
   "outputs": [
    {
     "name": "stdout",
     "output_type": "stream",
     "text": [
      "Requirement already satisfied: rich in /Users/gedeonkoh/Library/jupyterlab-desktop/jlab_server/lib/python3.12/site-packages (13.7.1)\n",
      "Requirement already satisfied: pyfiglet in /Users/gedeonkoh/Library/jupyterlab-desktop/jlab_server/lib/python3.12/site-packages (1.0.2)\n",
      "Requirement already satisfied: markdown-it-py>=2.2.0 in /Users/gedeonkoh/Library/jupyterlab-desktop/jlab_server/lib/python3.12/site-packages (from rich) (3.0.0)\n",
      "Requirement already satisfied: pygments<3.0.0,>=2.13.0 in /Users/gedeonkoh/Library/jupyterlab-desktop/jlab_server/lib/python3.12/site-packages (from rich) (2.17.2)\n",
      "Requirement already satisfied: mdurl~=0.1 in /Users/gedeonkoh/Library/jupyterlab-desktop/jlab_server/lib/python3.12/site-packages (from markdown-it-py>=2.2.0->rich) (0.1.2)\n"
     ]
    }
   ],
   "source": [
    "!pip install rich pyfiglet"
   ]
  }
 ],
 "metadata": {
  "kernelspec": {
   "display_name": "Python 3 (ipykernel)",
   "language": "python",
   "name": "python3"
  },
  "language_info": {
   "codemirror_mode": {
    "name": "ipython",
    "version": 3
   },
   "file_extension": ".py",
   "mimetype": "text/x-python",
   "name": "python",
   "nbconvert_exporter": "python",
   "pygments_lexer": "ipython3",
   "version": "3.12.2"
  }
 },
 "nbformat": 4,
 "nbformat_minor": 5
}
