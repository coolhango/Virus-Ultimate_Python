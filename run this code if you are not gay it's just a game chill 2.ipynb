{
 "cells": [
  {
   "cell_type": "code",
   "execution_count": null,
   "id": "7868e3c4-0134-4307-a2b3-12ce4f7216a0",
   "metadata": {},
   "outputs": [
    {
     "name": "stderr",
     "output_type": "stream",
     "text": [
      "IOPub data rate exceeded.\n",
      "The Jupyter server will temporarily stop sending output\n",
      "to the client in order to avoid crashing it.\n",
      "To change this limit, set the config variable\n",
      "`--ServerApp.iopub_data_rate_limit`.\n",
      "\n",
      "Current values:\n",
      "ServerApp.iopub_data_rate_limit=1000000.0 (bytes/sec)\n",
      "ServerApp.rate_limit_window=3.0 (secs)\n",
      "\n"
     ]
    }
   ],
   "source": [
    "# Last Updated: 27 March 2024, 9.48PM.\n",
    "# Copyright © 2024 Gedeon Koh All rights reserved.\n",
    "# No part of this publication may be reproduced, distributed, or transmitted in any form or by any means, including photocopying, recording, or other electronic or mechanical methods, without the prior written permission of the publisher, except in the case of brief quotations embodied in reviews and certain other non-commercial uses permitted by copyright law.\n",
    "# THE SOFTWARE IS PROVIDED “AS IS”, WITHOUT WARRANTY OF ANY KIND, EXPRESS OR IMPLIED, INCLUDING BUT NOT LIMITED TO THE WARRANTIES OF MERCHANTABILITY, FITNESS FOR A PARTICULAR PURPOSE AND NONINFRINGEMENT. IN NO EVENT SHALL THE AUTHOR OR COPYRIGHT HOLDER BE LIABLE FOR ANY CLAIM, DAMAGES OR OTHER LIABILITY, WHETHER IN AN ACTION OF CONTRACT, TORT OR OTHERWISE, ARISING FROM, OUT OF OR IN CONNECTION WITH THE SOFTWARE OR THE USE OR OTHER DEALINGS IN THE SOFTWARE.\n",
    "# Use of this program for pranks or any malicious activities is strictly prohibited. Any unauthorized use or dissemination of the results produced by this program is unethical and may result in legal consequences.\n",
    "# This code have been tested throughly. Please inform the operator or author if there is any mistake or error in the code.\n",
    "# Any damage, disciplinary actions or death from this material is not the publisher's or owner's fault.\n",
    "# Run and use this program this AT YOUR OWN RISK.\n",
    "# Added feature where program can be provided multiple links to open randomly\n",
    "# Removed unnecessary feature\n",
    "# Version 0.2\n",
    "\n",
    "import time\n",
    "import webbrowser\n",
    "import tkinter as tk\n",
    "from tkinter import messagebox\n",
    "import random\n",
    "\n",
    "def show_popup():\n",
    "    popup = tk.Toplevel(root)\n",
    "    popup.title(\"U Suck\")\n",
    "    label = tk.Label(popup, text=\"Thanks for Accepting\")\n",
    "    label.pack(padx=20, pady=20)\n",
    "\n",
    "    def open_link():\n",
    "        timeout = time.time() + 3 * 5  # 3 minutes and 5 seconds\n",
    "        while time.time() < timeout:\n",
    "            # Change links below accordingly\n",
    "            websites = [\"https://www.youtube.com/watch?v=dQw4w9WgXcQ\",\n",
    "                \"https://www.spotify.com/\",\n",
    "                \"https://www.dropbox.com/\",\n",
    "                \"https://www.uber.com/\",\n",
    "                \"https://www.google.com/\"]\n",
    "            \n",
    "            random_website = random.choice(websites)\n",
    "            webbrowser.open(random_website, new=1)\n",
    "            time.sleep(0.0000000000000000000000000000000000000000000000000000000000000000000000000000000000000000000000000000000000000000000000000000000000000000000000000000000000000000000001)\n",
    "\n",
    "    \n",
    "    open_link()\n",
    "    \n",
    "def move_button(event):\n",
    "    x = random.randint(0, 350)\n",
    "    y = random.randint(0, 350)\n",
    "    no_button.place(x=x, y=y)\n",
    "\n",
    "root = tk.Tk()\n",
    "root.title(\"Reality Check\")\n",
    "root.geometry(\"400x400\")\n",
    "\n",
    "question_label = tk.Label(root, text=\"Are you an idiot?\")\n",
    "question_label.pack(pady=20)\n",
    "\n",
    "yes_button = tk.Button(root, text=\"Yes\", command=show_popup)\n",
    "yes_button.pack()\n",
    "\n",
    "no_button = tk.Button(root, text=\"No\")\n",
    "no_button.pack()\n",
    "\n",
    "no_button.bind(\"<Enter>\", move_button)\n",
    "\n",
    "root.mainloop()\n"
   ]
  }
 ],
 "metadata": {
  "kernelspec": {
   "display_name": "Python 3 (ipykernel)",
   "language": "python",
   "name": "python3"
  },
  "language_info": {
   "codemirror_mode": {
    "name": "ipython",
    "version": 3
   },
   "file_extension": ".py",
   "mimetype": "text/x-python",
   "name": "python",
   "nbconvert_exporter": "python",
   "pygments_lexer": "ipython3",
   "version": "3.12.2"
  }
 },
 "nbformat": 4,
 "nbformat_minor": 5
}
